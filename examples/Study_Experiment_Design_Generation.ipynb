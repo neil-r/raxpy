{
 "cells": [
  {
   "cell_type": "markdown",
   "metadata": {},
   "source": [
    "# Study Experiment Design Generation\n",
    "\n",
    "This notebook analyzes the characteristics of different space-filling experiment design generation techniques provide by raxpy for different input spaces."
   ]
  },
  {
   "cell_type": "code",
   "execution_count": null,
   "metadata": {},
   "outputs": [],
   "source": [
    "from typing import Optional, Annotated\n",
    "\n",
    "import matplotlib.pyplot as plt\n",
    "import pandas as pd\n",
    "import numpy as np\n",
    "\n",
    "import raxpy\n",
    "import raxpy.spaces.root as s\n",
    "import raxpy.spaces.dimensions as d\n",
    "import raxpy.spaces.complexity as c\n",
    "import raxpy.does.lhs as lhs_doe\n",
    "import raxpy.does.random as random_doe\n",
    "import raxpy.does.assess as assess"
   ]
  },
  {
   "cell_type": "markdown",
   "metadata": {},
   "source": [
    "## Create Helper Functions"
   ]
  },
  {
   "cell_type": "code",
   "execution_count": null,
   "metadata": {},
   "outputs": [],
   "source": [
    "def meets_portions(doe, expected_counts):\n",
    "    actual_counts = {key:0 for key in expected_counts.keys()}\n",
    "\n",
    "    # determine the sub-space each data-point belongs to\n",
    "    def map_point(point):\n",
    "        active_dim_ids = []\n",
    "\n",
    "        for dim_id, column_index in doe.input_set_map.items():\n",
    "            if ~np.isnan(point[column_index]):\n",
    "                active_dim_ids.append(dim_id)\n",
    "\n",
    "        active_dim_ids.sort()\n",
    "        actual_counts[tuple(a for a in active_dim_ids)] += 1\n",
    "\n",
    "    # compute the subspace each point belongs to\n",
    "    for point in doe.input_sets:\n",
    "        map_point(point)\n",
    "        \n",
    "\n",
    "    for key in expected_counts.keys():\n",
    "        if expected_counts[key] != actual_counts[key]:\n",
    "            print(actual_counts)\n",
    "            return False\n",
    "\n",
    "    return True\n",
    "\n",
    "def generate_designs(strategies, space: s.InputSpace, number_of_designs: int = 10, number_of_points: int = 100, target_full_sub_space_portions=None):\n",
    "    for _, strategy in enumerate(strategies):\n",
    "        print(f\"Generating designs for strategy: '{strategy[1]}'\")\n",
    "        design_count = 0\n",
    "        while design_count < number_of_designs:\n",
    "            doe = strategy[0](space, number_of_points)\n",
    "\n",
    "            if target_full_sub_space_portions is None or meets_portions(doe, target_full_sub_space_portions):\n",
    "                assessment = assess.assess_with_all_metrics(doe)\n",
    "                strategy[2].append((doe,assessment))\n",
    "                design_count += 1\n",
    "                print(f\"Created design {design_count} for {strategy[1]}\")\n",
    "            else:\n",
    "                print(\"Skipping design\")\n",
    "            "
   ]
  },
  {
   "cell_type": "code",
   "execution_count": null,
   "metadata": {},
   "outputs": [],
   "source": [
    "def plot_fullsubspace_target_portions(space: s.InputSpace, number_of_points: int = 100):\n",
    "    subspaces = space.derive_full_subspaces()\n",
    "    \n",
    "    values = c.compute_subspace_portions(space, subspaces)\n",
    "    \n",
    "    fig, axs = plt.subplots(nrows=1, ncols=1, figsize=(9, 4))\n",
    "\n",
    "    rects = axs.bar(x=list(i for i in range(len(subspaces))),height=values, tick_label=list(\", \".join(subspace) for subspace in subspaces))\n",
    "\n",
    "    axs.bar_label(rects, labels=list(f\"{int(value*100)}% - {round(value*number_of_points)}\" for value in values))\n",
    "\n",
    "    axs.set_ylabel(\"Portion Percentage\")\n",
    "\n",
    "    axs.set_title(f'Target Portions for {number_of_points} points')\n",
    "    plt.xticks(rotation=45)\n",
    "    plt.show()"
   ]
  },
  {
   "cell_type": "code",
   "execution_count": null,
   "metadata": {},
   "outputs": [],
   "source": [
    "def get_sub_space_assessments(strategies, dim_list, metric=assess.METRIC_DISCREPANCY):\n",
    "    results = []\n",
    "    for strategy in strategies:\n",
    "        design_results = []\n",
    "        for replication_data in strategy[2]:\n",
    "            assessment = replication_data[1].get_full_sub_design_assessment(dim_list)\n",
    "            if assessment is not None:\n",
    "                design_results.append(assessment.measurements[metric])\n",
    "        results.append(design_results)\n",
    "\n",
    "    return results"
   ]
  },
  {
   "cell_type": "code",
   "execution_count": null,
   "metadata": {},
   "outputs": [],
   "source": [
    "def plot_sub_space_assessments(strategies, dim_list, metric=assess.METRIC_DISCREPANCY):\n",
    "    assessment_values = get_sub_space_assessments(strategies, dim_list, metric)\n",
    "\n",
    "    assessmentic_data = [[t for t in assessment_values[i] ] for i in range(len(strategies))]\n",
    "    fig, axs = plt.subplots(nrows=1, ncols=1, figsize=(9, 4))\n",
    "\n",
    "    axs.violinplot(assessmentic_data,\n",
    "                    showmeans=False,\n",
    "                    showmedians=True)\n",
    "    axs.set_xticks(list(i+1 for i in range(len(strategies))))\n",
    "    axs.set_xticklabels(list(strategy[1] for strategy in strategies))\n",
    "\n",
    "    axs.set_title(f'{metric} for {\", \".join(dim_list)} full-sub-design (smaller the better)')\n",
    "\n",
    "    plt.show()\n",
    "    pass"
   ]
  },
  {
   "cell_type": "code",
   "execution_count": null,
   "metadata": {},
   "outputs": [],
   "source": [
    "def generate_basic_plots(strategies):\n",
    "    \n",
    "    assessmentic_data = [[t[1].measurements[assess.METRIC_WEIGHTED_DISCREPANCY] for t in strategy[2] ] for strategy in strategies]\n",
    "    fig, axs = plt.subplots(nrows=1, ncols=1, figsize=(9, 4))\n",
    "\n",
    "    axs.violinplot(assessmentic_data,\n",
    "                    showmeans=False,\n",
    "                    showmedians=True)\n",
    "    axs.set_title('Weighted Discrepancies (smaller the better)')\n",
    "\n",
    "    plt.show()\n",
    "\n",
    "    assessmentic_data = [[t[1].measurements[assess.METRIC_WHOLE_MIN_POINT_DISTANCE] for t in strategy[2] ] for strategy in strategies]\n",
    "    fig, axs = plt.subplots(nrows=1, ncols=1, figsize=(9, 4))\n",
    "\n",
    "    axs.violinplot(assessmentic_data,\n",
    "                    showmeans=False,\n",
    "                    showmedians=True)\n",
    "    axs.set_title('Minimum Interpoint Distances (larger the better)')\n",
    "\n",
    "    plt.show()\n",
    "\n",
    "\n",
    "    assessmentic_data = [[t[1].measurements[assess.METRIC_WHOLE_MIN_PROJECTED_DISTANCE] for t in strategy[2] ] for strategy in strategies]\n",
    "    fig, axs = plt.subplots(nrows=1, ncols=1, figsize=(9, 4))\n",
    "    print(assessmentic_data)\n",
    "    axs.violinplot(assessmentic_data,\n",
    "                    showmeans=False,\n",
    "                    showmedians=True)\n",
    "    axs.set_title('Minimum Projected Distances (larger the better)')\n",
    "\n",
    "    plt.show()"
   ]
  },
  {
   "cell_type": "markdown",
   "metadata": {},
   "source": [
    "# Assessment A: 3 Optional Floats"
   ]
  },
  {
   "cell_type": "code",
   "execution_count": null,
   "metadata": {},
   "outputs": [],
   "source": [
    "strategies = [\n",
    "    (lhs_doe.generate_design, \"LHD-by-TreeTraversal\",[]),\n",
    "    (random_doe.generate_design, \"Random\",[]),\n",
    "    # (lhs_doe.generate_seperate_designs_by_full_subspace, \"LHD-by-SubSpace\",[]),\n",
    "    (lhs_doe.generate_design_with_projection, \"LHD-Projection\", []),\n",
    "]\n",
    "\n",
    "space = s.InputSpace(\n",
    "    dimensions=[\n",
    "        d.Float(id=\"x1\", lb=0.0, ub=1.0, nullable=True, portion_null=0.1),\n",
    "        d.Float(id=\"x2\", lb=0.0, ub=1.0, nullable=True, portion_null=0.1),\n",
    "        d.Float(id=\"x3\", lb=0.0, ub=1.0, nullable=True, portion_null=0.1),\n",
    "    ]\n",
    ")"
   ]
  },
  {
   "cell_type": "markdown",
   "metadata": {},
   "source": [
    "By default when creating dimensions, the target portion of values in a design to be null is unspecified. Creating a design without specifying these values, results in the whole design to have parameters. The following code assigns these portitions using a complexity analysis hueristic."
   ]
  },
  {
   "cell_type": "code",
   "execution_count": null,
   "metadata": {},
   "outputs": [],
   "source": [
    "plot_fullsubspace_target_portions(space,number_of_points=100)"
   ]
  },
  {
   "cell_type": "code",
   "execution_count": null,
   "metadata": {},
   "outputs": [],
   "source": [
    "generate_designs(\n",
    "    strategies, space, number_of_designs=10,\n",
    "        \n",
    ")"
   ]
  },
  {
   "cell_type": "code",
   "execution_count": null,
   "metadata": {},
   "outputs": [],
   "source": [
    "generate_basic_plots(strategies)"
   ]
  },
  {
   "cell_type": "code",
   "execution_count": null,
   "metadata": {},
   "outputs": [],
   "source": [
    "# custom assessment plots\n",
    "plot_sub_space_assessments(strategies, [\"x1\",\"x2\",\"x3\"], assess.METRIC_DISCREPANCY)\n",
    "plot_sub_space_assessments(strategies, [\"x1\",\"x2\"], assess.METRIC_DISCREPANCY)\n",
    "plot_sub_space_assessments(strategies, [\"x2\",\"x3\"], assess.METRIC_DISCREPANCY)\n",
    "plot_sub_space_assessments(strategies, [\"x1\",\"x3\"], assess.METRIC_DISCREPANCY)"
   ]
  },
  {
   "cell_type": "markdown",
   "metadata": {},
   "source": [
    "# Assessment B: Basic Heirarchy"
   ]
  },
  {
   "cell_type": "code",
   "execution_count": null,
   "metadata": {},
   "outputs": [],
   "source": [
    "strategies_bh = [\n",
    "    (lhs_doe.generate_design, \"LHD-by-TreeTraversal\",[]),\n",
    "    #(random_doe.generate_design, \"Random\",[]),\n",
    "    #(lhs_doe.generate_seperate_designs_by_full_subspace, \"LHD-by-SubSpace\",[]),\n",
    "    (lhs_doe.generate_design_with_projection, \"LHD-Projection\", []),\n",
    "]\n",
    "\n",
    "space_bh = s.InputSpace(\n",
    "    dimensions=[\n",
    "        d.Float(id=\"x1\", lb=0.0, ub=1.0, nullable=False),\n",
    "        d.Float(id=\"x2\", lb=0.0, ub=1.0, nullable=False),\n",
    "        d.Float(id=\"x3\", lb=0.0, ub=1.0, nullable=True),\n",
    "        d.Composite(id=\"x4\", nullable=True, children=[\n",
    "            d.Float(id=\"x4_1\", lb=0.0, ub=1.0, nullable=False),\n",
    "            d.Float(id=\"x4_2\", lb=0.0, ub=1.0, nullable=True),\n",
    "        ])\n",
    "    ]\n",
    ")\n",
    "\n",
    "c.assign_null_portions(s.create_level_iterable(space_bh.children))\n",
    "number_of_points = 100\n",
    "plot_fullsubspace_target_portions(space_bh,number_of_points)"
   ]
  },
  {
   "cell_type": "code",
   "execution_count": null,
   "metadata": {},
   "outputs": [],
   "source": [
    "generate_designs(\n",
    "    strategies_bh,\n",
    "    space_bh,\n",
    "    number_of_designs=100,\n",
    "    number_of_points=number_of_points,\n",
    "    target_full_sub_space_portions={\n",
    "        (\"x1\",\"x2\",\"x3\"):17,\n",
    "        (\"x1\",\"x2\",\"x4\",\"x4_1\",\"x4_2\"):14,\n",
    "        (\"x1\",\"x2\",\"x4\",\"x4_1\"):5,\n",
    "        (\"x1\",\"x2\",\"x3\",\"x4\",\"x4_1\",\"x4_2\"):45,\n",
    "        (\"x1\",\"x2\",\"x3\",\"x4\",\"x4_1\"):14,\n",
    "        (\"x1\",\"x2\"):5\n",
    "    }\n",
    ")"
   ]
  },
  {
   "cell_type": "code",
   "execution_count": null,
   "metadata": {},
   "outputs": [],
   "source": [
    "generate_basic_plots(strategies_bh)"
   ]
  },
  {
   "cell_type": "markdown",
   "metadata": {},
   "source": [
    "# Assessment C: More complex hierarchy"
   ]
  },
  {
   "cell_type": "code",
   "execution_count": null,
   "metadata": {},
   "outputs": [],
   "source": [
    "\n",
    "strategies_ch = [\n",
    "    (lhs_doe.generate_design, \"LHD-by-TreeTraversal\",[]),\n",
    "    (random_doe.generate_design, \"Random\",[]),\n",
    "    (lhs_doe.generate_seperate_designs_by_full_subspace, \"LHD-by-SubSpace\",[]),\n",
    "    (lhs_doe.generate_design_with_projection, \"LHD-Projection\", []),\n",
    "]\n",
    "\n",
    "space_ch = s.InputSpace(\n",
    "    dimensions=[\n",
    "        d.Float(id=\"x1\", lb=3.0, ub=5.0),\n",
    "        d.Float(\n",
    "            id=\"x2\",\n",
    "            lb=-3.0,\n",
    "            ub=-5.0,\n",
    "            nullable=True,\n",
    "            portion_null=1.0 / 10.0,\n",
    "        ),\n",
    "        d.Composite(\n",
    "            id=\"x3\",\n",
    "            nullable=True,\n",
    "            portion_null=1.0 / 7.0,\n",
    "            children=[\n",
    "                d.Int(id=\"x4\", lb=6, ub=7),\n",
    "                d.Float(\n",
    "                    id=\"x5\",\n",
    "                    value_set=[0.1, 0.5, 0.9],\n",
    "                    nullable=True,\n",
    "                    portion_null=1.0 / 4.0,\n",
    "                ),\n",
    "            ],\n",
    "        ),\n",
    "        d.Variant(\n",
    "            id=\"x6\",\n",
    "            nullable=True,\n",
    "            portion_null=0.33,\n",
    "            options=[\n",
    "                d.Float(id=\"x7\", lb=1.0, ub=2.0),\n",
    "                d.Float(id=\"x8\", lb=3.0, ub=4.0),\n",
    "            ],\n",
    "        ),\n",
    "    ]\n",
    ")\n",
    "\n",
    "c.assign_null_portions(s.create_level_iterable(space_ch.children))\n",
    "plot_fullsubspace_target_portions(space_ch)"
   ]
  },
  {
   "cell_type": "code",
   "execution_count": null,
   "metadata": {},
   "outputs": [],
   "source": []
  },
  {
   "cell_type": "code",
   "execution_count": null,
   "metadata": {},
   "outputs": [],
   "source": []
  },
  {
   "cell_type": "code",
   "execution_count": null,
   "metadata": {},
   "outputs": [],
   "source": []
  },
  {
   "cell_type": "code",
   "execution_count": null,
   "metadata": {},
   "outputs": [],
   "source": []
  },
  {
   "cell_type": "code",
   "execution_count": null,
   "metadata": {},
   "outputs": [],
   "source": []
  },
  {
   "cell_type": "code",
   "execution_count": null,
   "metadata": {},
   "outputs": [],
   "source": []
  },
  {
   "cell_type": "code",
   "execution_count": null,
   "metadata": {},
   "outputs": [],
   "source": []
  },
  {
   "cell_type": "code",
   "execution_count": null,
   "metadata": {},
   "outputs": [],
   "source": []
  },
  {
   "cell_type": "code",
   "execution_count": null,
   "metadata": {},
   "outputs": [],
   "source": [
    "from scipy.stats.qmc import discrepancy"
   ]
  },
  {
   "cell_type": "code",
   "execution_count": null,
   "metadata": {},
   "outputs": [],
   "source": [
    "discrepancy([[0.0],[0.5],[1.0]],method=\"WD\")"
   ]
  },
  {
   "cell_type": "code",
   "execution_count": null,
   "metadata": {},
   "outputs": [],
   "source": [
    "discrepancy([[0.0],[0.1],[1.0]],method=\"WD\")"
   ]
  },
  {
   "cell_type": "code",
   "execution_count": null,
   "metadata": {},
   "outputs": [],
   "source": [
    "discrepancy([[0.0],[0.001],[1.0]],method=\"WD\")"
   ]
  },
  {
   "cell_type": "code",
   "execution_count": null,
   "metadata": {},
   "outputs": [],
   "source": [
    "discrepancy([[0.0],[0.1],[0.05]],method=\"WD\")"
   ]
  },
  {
   "cell_type": "code",
   "execution_count": null,
   "metadata": {},
   "outputs": [],
   "source": [
    "discrepancy([[0.0],[0.1],[0.2],[0.3],[0.4],[0.5]],method=\"WD\")"
   ]
  },
  {
   "cell_type": "code",
   "execution_count": null,
   "metadata": {},
   "outputs": [],
   "source": [
    "discrepancy([[0.0],[0.19],[0.2],[0.3],[0.4],[0.5]],method=\"WD\")"
   ]
  },
  {
   "cell_type": "code",
   "execution_count": null,
   "metadata": {},
   "outputs": [],
   "source": [
    "discrepancy([[0.0],[0.19],[0.2],[0.21],[0.4],[0.5]],method=\"WD\")"
   ]
  },
  {
   "cell_type": "code",
   "execution_count": null,
   "metadata": {},
   "outputs": [],
   "source": [
    "discrepancy([[0.0],[0.19],[0.2],[0.21],[0.49],[0.5]],method=\"WD\")"
   ]
  },
  {
   "cell_type": "code",
   "execution_count": null,
   "metadata": {},
   "outputs": [],
   "source": [
    "discrepancy([[0.0],[0.01],[0.2],[0.21],[0.49],[0.5]],method=\"WD\")"
   ]
  },
  {
   "cell_type": "code",
   "execution_count": null,
   "metadata": {},
   "outputs": [],
   "source": [
    "help(discrepancy)"
   ]
  },
  {
   "cell_type": "code",
   "execution_count": null,
   "metadata": {},
   "outputs": [],
   "source": [
    "discrepancy([[0.0],[0.19],[0.2],[0.21],[0.49],[0.5]], method=\"CD\")"
   ]
  },
  {
   "cell_type": "code",
   "execution_count": null,
   "metadata": {},
   "outputs": [],
   "source": [
    "discrepancy([[0.0],[0.1],[0.2],[0.3],[0.4],[0.5]], method=\"CD\")"
   ]
  },
  {
   "cell_type": "code",
   "execution_count": null,
   "metadata": {},
   "outputs": [],
   "source": []
  }
 ],
 "metadata": {
  "kernelspec": {
   "display_name": "venv",
   "language": "python",
   "name": "python3"
  },
  "language_info": {
   "codemirror_mode": {
    "name": "ipython",
    "version": 3
   },
   "file_extension": ".py",
   "mimetype": "text/x-python",
   "name": "python",
   "nbconvert_exporter": "python",
   "pygments_lexer": "ipython3",
   "version": "3.10.12"
  }
 },
 "nbformat": 4,
 "nbformat_minor": 2
}
