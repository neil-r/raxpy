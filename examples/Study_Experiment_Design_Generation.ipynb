{
 "cells": [
  {
   "cell_type": "markdown",
   "metadata": {},
   "source": [
    "# Study Experiment Design Generation\n",
    "\n",
    "This notebook analyzes the characteristics of different space-filling experiment design generation techniques provide by raxpy for different input spaces."
   ]
  },
  {
   "cell_type": "code",
   "execution_count": 1,
   "metadata": {},
   "outputs": [],
   "source": [
    "from typing import NamedTuple, Callable, List, Tuple\n",
    "\n",
    "import matplotlib.pyplot as plt\n",
    "import numpy as np\n",
    "\n",
    "import raxpy\n",
    "import raxpy.spaces as s\n",
    "import raxpy.spaces.complexity as c\n",
    "import raxpy.does.lhs as lhs_doe\n",
    "import raxpy.does.random as random_doe\n",
    "import raxpy.does.measure as measure\n",
    "from raxpy.does import plots\n",
    "import raxpy.does.doe \n",
    "from raxpy.does.doe import EncodingEnum\n",
    "\n",
    "import importlib\n",
    "\n",
    "importlib.reload(raxpy.does.doe)\n",
    "plt.style.use('ggplot')\n",
    "\n",
    "\n",
    "class DoeTuple(NamedTuple):\n",
    "    design:lhs_doe.DesignOfExperiment\n",
    "    measurement_set:measure.DesignMeasurementSet\n",
    "\n",
    "\n",
    "class DesignStrategyResults(NamedTuple):\n",
    "    strategy:Callable\n",
    "    name:str\n",
    "    designs:List[DoeTuple]\n"
   ]
  },
  {
   "cell_type": "markdown",
   "metadata": {},
   "source": [
    "## Create Helper Functions"
   ]
  },
  {
   "cell_type": "code",
   "execution_count": 2,
   "metadata": {},
   "outputs": [],
   "source": [
    "def compute_sub_space_allocations(doe, sub_spaces):\n",
    "    actual_counts = {sub_space:0 for sub_space in sub_spaces}\n",
    "\n",
    "    # determine the sub-space each data-point belongs to\n",
    "    def map_point(point):\n",
    "        active_dim_ids = []\n",
    "\n",
    "        for dim_id, column_index in doe.input_set_map.items():\n",
    "            if ~np.isnan(point[column_index]):\n",
    "                active_dim_ids.append(dim_id)\n",
    "\n",
    "        active_dim_ids.sort()\n",
    "        actual_counts[tuple(a for a in active_dim_ids)] += 1\n",
    "\n",
    "    # compute the subspace each point belongs to\n",
    "    for point in doe.decoded_input_sets:\n",
    "        map_point(point)\n",
    "    \n",
    "    return actual_counts\n",
    "        \n",
    "def meets_portions(doe, expected_counts):\n",
    "    actual_counts = compute_sub_space_allocations(doe,expected_counts.keys())\n",
    "\n",
    "    for key in expected_counts.keys():\n",
    "        if expected_counts[key] != actual_counts[key]:\n",
    "            print(actual_counts)\n",
    "            return False\n",
    "\n",
    "    return True\n",
    "\n",
    "def generate_designs(strategies:List[DesignStrategyResults], space: s.InputSpace, number_of_designs: int = 10, number_of_points: int = 100, target_full_sub_space_portions=None):\n",
    "    for _, strategy in enumerate(strategies):\n",
    "        print(f\"Generating designs for strategy: '{strategy[1]}'\")\n",
    "        design_count = 0\n",
    "        while design_count < number_of_designs:\n",
    "            doe = strategy[0](space, number_of_points)\n",
    "\n",
    "            if target_full_sub_space_portions is None or meets_portions(doe, target_full_sub_space_portions):\n",
    "                # note that we use decoded values for measurement, \n",
    "                # This allows comparison with all stratgies since some \n",
    "                # generate designs work in decoded space\n",
    "                # All input spaces use floats with 0 to 1 bounds so \n",
    "                # dimensional range bias not an issue.\n",
    "                measurement_set = measure.measure_with_all_metrics(doe, encoding=EncodingEnum.NONE)\n",
    "                strategy[2].append(DoeTuple(doe,measurement_set))\n",
    "                design_count += 1\n",
    "                print(f\"Created design {design_count} for {strategy[1]}\")\n",
    "            else:\n",
    "                print(\"Skipping design\")\n",
    "            "
   ]
  },
  {
   "cell_type": "code",
   "execution_count": 3,
   "metadata": {},
   "outputs": [],
   "source": [
    "def plot_fullsubspace_target_portions(space: s.InputSpace, number_of_points: int = 100):\n",
    "    subspaces = space.derive_full_subspaces()\n",
    "    \n",
    "    values = c.compute_subspace_portions(space, subspaces)\n",
    "    \n",
    "    fig, axs = plt.subplots(nrows=1, ncols=1, figsize=(9, 4))\n",
    "\n",
    "    rects = axs.bar(x=list(i for i in range(len(subspaces))),height=values, tick_label=list(\", \".join(subspace) for subspace in subspaces))\n",
    "\n",
    "    axs.bar_label(rects, labels=list(f\"{int(value*100)}% - {round(value*number_of_points)}\" for value in values))\n",
    "\n",
    "    axs.set_ylabel(\"Portion Percentage\")\n",
    "\n",
    "    axs.set_title(f'Target Portions for {number_of_points} points')\n",
    "    plt.xticks(rotation=45)\n",
    "    plt.show()"
   ]
  },
  {
   "cell_type": "code",
   "execution_count": 4,
   "metadata": {},
   "outputs": [],
   "source": [
    "\n",
    "def dict_to_hashable_tuple(d):\n",
    "    return tuple(sorted(d.items()))\n",
    "\n",
    "class DesignAssessmentGroups:\n",
    "\n",
    "    def __init__(self, space, strategy_names):\n",
    "        self.design_allocations = {}\n",
    "        self.space = space\n",
    "        self.strategy_names = strategy_names\n",
    "        self.sub_spaces = tuple(tuple(l) for l in space.derive_full_subspaces())\n",
    "\n",
    "    def add_design(self,strategy_name, doe_tuple:DoeTuple):\n",
    "        \n",
    "        allocation = dict_to_hashable_tuple(\n",
    "            compute_sub_space_allocations(doe_tuple.design, self.sub_spaces)\n",
    "        )\n",
    "        if allocation not in self.design_allocations:\n",
    "            self.design_allocations[allocation] = {name:[] for name in self.strategy_names}\n",
    "\n",
    "        self.design_allocations[allocation][strategy_name].append(doe_tuple)\n",
    "    \n",
    "    def print_allocation_counts(self):\n",
    "\n",
    "        for full_sub_space, design_allocation in self.design_allocations.items():\n",
    "            \n",
    "            print(f\"{full_sub_space} - {', '.join(str(len(d)) for d in design_allocation.values())}\")\n",
    "\n",
    "    def generate_allocation_point_differences(self, target_sub_space_allocations):\n",
    "        count_differences = {name:[] for name in self.strategy_names}\n",
    "        for full_sub_space, design_allocation in self.design_allocations.items():\n",
    "            # compute point count differences from target\n",
    "\n",
    "            diff = 0\n",
    "            for sub_spaces, actual_count in full_sub_space:\n",
    "                target_count = target_sub_space_allocations[sub_spaces]\n",
    "                diff += abs(target_count - actual_count)\n",
    "\n",
    "            diff = diff/2.0 # avoid double counting\n",
    "            for strat_name, doe_tuples in design_allocation.items():\n",
    "                for _ in range(len(doe_tuples)):\n",
    "                    count_differences[strat_name].append(diff)\n",
    "        \n",
    "        fig, axs = plt.subplots(nrows=1, ncols=1, figsize=(9, 4))\n",
    "\n",
    "        axs.violinplot(list(v for v in count_differences.values()),\n",
    "                        showmeans=False,\n",
    "                        showmedians=True)\n",
    "        axs.set_xticks(list(i+1 for i in range(len(self.strategy_names))))\n",
    "        axs.set_xticklabels(self.strategy_names)\n",
    "\n",
    "        axs.set_title(f'Allocation Point Count Differences from Target')\n",
    "\n",
    "        plt.show()\n",
    "\n",
    "def split_designs_by_subspace_allocations(strategies:List[DesignStrategyResults], space:s.InputSpace) -> DesignAssessmentGroups:\n",
    "\n",
    "    \n",
    "    assessment_group = DesignAssessmentGroups(space, strategy_names=list(s.name for s in strategies))\n",
    "\n",
    "    \n",
    "    for strategy in strategies:\n",
    "\n",
    "        for design in strategy.designs:\n",
    "            # determine the allocations to sub-spaces\n",
    "            assessment_group.add_design(strategy.name, design)\n",
    "    \n",
    "\n",
    "    return assessment_group\n"
   ]
  },
  {
   "cell_type": "code",
   "execution_count": 5,
   "metadata": {},
   "outputs": [],
   "source": [
    "def get_sub_space_measurements(strategies:List[DesignStrategyResults], dim_list, metric=measure.METRIC_DISCREPANCY):\n",
    "    results = []\n",
    "    for strategy in strategies:\n",
    "        design_results = []\n",
    "        for doe_tuple in strategy.designs:\n",
    "            assessment = doe_tuple.measurement_set.get_full_sub_design_measurements(dim_list)\n",
    "            if assessment is not None:\n",
    "                if metric in assessment.measurements:\n",
    "                    design_results.append(assessment.measurements[metric])\n",
    "                else:\n",
    "                    print(f\"Skipping design for strategy '{strategy.name}' since it does not metric '{metric}' \")\n",
    "        results.append(design_results)\n",
    "\n",
    "    return results"
   ]
  },
  {
   "cell_type": "code",
   "execution_count": 6,
   "metadata": {},
   "outputs": [],
   "source": [
    "def plot_sub_space_assessments(strategies:List[DesignStrategyResults], dim_list, metric=measure.METRIC_DISCREPANCY):\n",
    "    assessment_values = get_sub_space_measurements(strategies, dim_list, metric)\n",
    "\n",
    "    assessmentic_data = [[t for t in assessment_values[i] ] for i in range(len(strategies))]\n",
    "    fig, axs = plt.subplots(nrows=1, ncols=1, figsize=(9, 4))\n",
    "\n",
    "    axs.violinplot(assessmentic_data,\n",
    "                    showmeans=False,\n",
    "                    showmedians=True)\n",
    "    axs.set_xticks(list(i+1 for i in range(len(strategies))))\n",
    "    axs.set_xticklabels(list(strategy.name for strategy in strategies))\n",
    "\n",
    "    axs.set_title(f'{metric} for {\", \".join(dim_list)} full-sub-design (smaller the better)')\n",
    "\n",
    "    plt.show()\n",
    "    pass"
   ]
  },
  {
   "cell_type": "code",
   "execution_count": 7,
   "metadata": {},
   "outputs": [],
   "source": [
    "def generate_basic_plots(strategies:List[DesignStrategyResults]):\n",
    "    \n",
    "    assessmentic_data = [[t.measurement_set.measurements[measure.METRIC_WEIGHTED_DISCREPANCY] for t in strategy.designs ] for strategy in strategies]\n",
    "    fig, axs = plt.subplots(nrows=1, ncols=1, figsize=(9, 4))\n",
    "\n",
    "    axs.violinplot(assessmentic_data,\n",
    "                    showmeans=False,\n",
    "                    showmedians=True)\n",
    "    axs.set_title('Weighted Discrepancies (smaller the better)')\n",
    "    axs.set_xticks(list(i+1 for i in range(len(strategies))))\n",
    "    axs.set_xticklabels(list(strategy.name for strategy in strategies))\n",
    "\n",
    "    plt.show()\n",
    "\n",
    "    assessmentic_data = [[t.measurement_set.measurements[measure.METRIC_WHOLE_MIN_POINT_DISTANCE] for t in strategy.designs ] for strategy in strategies]\n",
    "    fig, axs = plt.subplots(nrows=1, ncols=1, figsize=(9, 4))\n",
    "\n",
    "    axs.violinplot(assessmentic_data,\n",
    "                    showmeans=False,\n",
    "                    showmedians=True)\n",
    "    axs.set_title('Minimum Interpoint Distances (larger the better)')\n",
    "    axs.set_xticks(list(i+1 for i in range(len(strategies))))\n",
    "    axs.set_xticklabels(list(strategy.name for strategy in strategies))\n",
    "\n",
    "    plt.show()\n",
    "\n",
    "    assessmentic_data = [[t.measurement_set.measurements[measure.METRIC_WHOLE_MIN_PROJECTED_DISTANCE] for t in strategy.designs ] for strategy in strategies]\n",
    "    fig, axs = plt.subplots(nrows=1, ncols=1, figsize=(9, 4))\n",
    "    print(assessmentic_data)\n",
    "    axs.violinplot(assessmentic_data,\n",
    "                    showmeans=False,\n",
    "                    showmedians=True)\n",
    "    axs.set_title('Minimum Projected Distances (larger the better)')\n",
    "    axs.set_xticks(list(i+1 for i in range(len(strategies))))\n",
    "    axs.set_xticklabels(list(strategy.name for strategy in strategies))\n",
    "\n",
    "    plt.show()\n",
    "\n",
    "    assessmentic_data = [[t.measurement_set.measurements[measure.METRIC_AVG_MIN_PROJECTED_DISTANCE] for t in strategy.designs ] for strategy in strategies]\n",
    "    fig, axs = plt.subplots(nrows=1, ncols=1, figsize=(9, 4))\n",
    "    print(assessmentic_data)\n",
    "    axs.violinplot(assessmentic_data,\n",
    "                    showmeans=False,\n",
    "                    showmedians=True)\n",
    "    axs.set_title('Average Minimum Dimension Distances (larger the better)')\n",
    "    axs.set_xticks(list(i+1 for i in range(len(strategies))))\n",
    "    axs.set_xticklabels(list(strategy.name for strategy in strategies))\n",
    "\n",
    "    plt.show()"
   ]
  },
  {
   "cell_type": "code",
   "execution_count": 8,
   "metadata": {},
   "outputs": [],
   "source": [
    "def peek_into_results(strategies:List[DesignStrategyResults]):\n",
    "\n",
    "    for strategy in strategies:\n",
    "        print(\"\\n\\n-----------------------------------\")\n",
    "        print(f\"Strategy: {strategy.name}\")\n",
    "        doe_tuple = strategy.designs[0]\n",
    "        print(\"-Example Design Peak-------------------\")\n",
    "        print(doe_tuple.design.decoded_input_sets[0:5,:])\n",
    "        print(\"-Measurements-------------------\")\n",
    "        print(doe_tuple.measurement_set.measurements)\n",
    "        print(\"-Sub-Design Assessments----------------\")\n",
    "        print(doe_tuple.measurement_set.full_sub_design_measurements)\n",
    "        "
   ]
  },
  {
   "cell_type": "code",
   "execution_count": 9,
   "metadata": {},
   "outputs": [],
   "source": [
    "def plot_designs(strategies:List[DesignStrategyResults],design_index=0):\n",
    "    \n",
    "    for strategy in strategies:\n",
    "        design = strategy.designs[design_index].design\n",
    "        fig = plots.scatterplot_matrix(design.decoded_input_sets, list(design.input_set_map.keys()))\n",
    "        fig.suptitle(strategy.name)"
   ]
  },
  {
   "cell_type": "code",
   "execution_count": 10,
   "metadata": {},
   "outputs": [],
   "source": [
    "from raxpy.does.maxpro import optimize_design_with_sa\n",
    "\n",
    "def add_maxpro_strategy_variations(stratgies:List[DesignStrategyResults]):\n",
    "    s_len = len(stratgies)\n",
    "    for i in range(s_len):\n",
    "        base_strategy = stratgies[i]\n",
    "\n",
    "        new_dsr = DesignStrategyResults(\n",
    "            strategy=lambda x:x,\n",
    "            name=f\"{base_strategy.name}+MaxPro\",\n",
    "            designs=[]\n",
    "        )\n",
    "        for doe_tuple in base_strategy.designs:\n",
    "            opt_design = optimize_design_with_sa(doe_tuple.design, encoding=EncodingEnum.NONE)\n",
    "            measurement_set = measure.measure_with_all_metrics(opt_design, encoding=EncodingEnum.NONE)\n",
    "            new_dsr.designs.append(DoeTuple(opt_design,measurement_set))\n",
    "        stratgies.append(new_dsr)\n",
    "        "
   ]
  },
  {
   "cell_type": "markdown",
   "metadata": {},
   "source": [
    "# Assessment A: 3 Optional Floats"
   ]
  },
  {
   "cell_type": "code",
   "execution_count": 11,
   "metadata": {},
   "outputs": [],
   "source": [
    "strategies = [\n",
    "    DesignStrategyResults(lhs_doe.generate_design, \"LHD-by-TreeTraversal\",[]),\n",
    "    DesignStrategyResults(lhs_doe.generate_seperate_designs_by_full_subspace_and_pool, \"LHD-by-SubSpace-Projection\",[]),\n",
    "    DesignStrategyResults(random_doe.generate_design, \"Random\",[]),\n",
    "    DesignStrategyResults(random_doe.generate_seperate_designs_by_full_subspace, \"Random-by-SubSpace\",[]),\n",
    "    DesignStrategyResults(lhs_doe.generate_seperate_designs_by_full_subspace, \"LHD-by-SubSpace\",[]),\n",
    "    DesignStrategyResults(lhs_doe.generate_design_with_projection, \"LHD-Projection\", []),\n",
    "]\n",
    "\n",
    "space = s.InputSpace(\n",
    "    dimensions=[\n",
    "        s.Float(id=\"x1\", lb=0.0, ub=1.0, nullable=True),\n",
    "        s.Float(id=\"x2\", lb=0.0, ub=1.0, nullable=True),\n",
    "        s.Float(id=\"x3\", lb=0.0, ub=1.0, nullable=True),\n",
    "    ]\n",
    ")\n",
    "\n",
    "target_sub_space_allocations = {\n",
    "    tuple():0,\n",
    "    (\"x1\",):1,\n",
    "    (\"x2\",):1,\n",
    "    (\"x3\",):1,\n",
    "    (\"x1\",\"x2\"):8,\n",
    "    (\"x1\",\"x3\"):8,\n",
    "    (\"x2\",\"x3\"):8,\n",
    "    (\"x1\",\"x2\",\"x3\"):73,\n",
    "}\n",
    "\n",
    "small_target_sub_space_allocations = {\n",
    "    tuple():0,\n",
    "    (\"x1\",):1,\n",
    "    (\"x2\",):1,\n",
    "    (\"x3\",):1,\n",
    "    (\"x1\",\"x2\"):3,\n",
    "    (\"x1\",\"x3\"):3,\n",
    "    (\"x2\",\"x3\"):3,\n",
    "    (\"x1\",\"x2\",\"x3\"):12,\n",
    "}\n",
    "c.assign_null_portions(s.create_level_iterable(space.children))"
   ]
  },
  {
   "cell_type": "markdown",
   "metadata": {},
   "source": [
    "By default when creating dimensions, the target portion of values in a design to be null is unspecified. Creating a design without specifying these values, results in the whole design to have parameters. The following code assigns these portitions using a complexity analysis hueristic."
   ]
  },
  {
   "cell_type": "code",
   "execution_count": null,
   "metadata": {},
   "outputs": [],
   "source": [
    "plot_fullsubspace_target_portions(space,number_of_points=25)"
   ]
  },
  {
   "cell_type": "markdown",
   "metadata": {},
   "source": []
  },
  {
   "cell_type": "code",
   "execution_count": null,
   "metadata": {},
   "outputs": [],
   "source": [
    "generate_designs(\n",
    "    strategies, space, number_of_designs=4, number_of_points=25\n",
    ")"
   ]
  },
  {
   "cell_type": "code",
   "execution_count": null,
   "metadata": {},
   "outputs": [],
   "source": [
    "add_maxpro_strategy_variations(strategies)"
   ]
  },
  {
   "cell_type": "code",
   "execution_count": null,
   "metadata": {},
   "outputs": [],
   "source": [
    "plot_designs(strategies,design_index =1)"
   ]
  },
  {
   "cell_type": "code",
   "execution_count": null,
   "metadata": {},
   "outputs": [],
   "source": [
    "assessment_group = split_designs_by_subspace_allocations(strategies, space)\n",
    "assessment_group.print_allocation_counts()\n",
    "assessment_group.generate_allocation_point_differences(target_sub_space_allocations)"
   ]
  },
  {
   "cell_type": "code",
   "execution_count": null,
   "metadata": {},
   "outputs": [],
   "source": [
    "# now lets reset and analyze without random\n",
    "strategies = [\n",
    "    DesignStrategyResults(lhs_doe.generate_design, \"LHD-by-TreeTraversal\",[]),\n",
    "    # DesignStrategyResults(random_doe.generate_design, \"Random\",[]),\n",
    "    DesignStrategyResults(lhs_doe.generate_seperate_designs_by_full_subspace_and_pool, \"LHD-by-SubSpace-Projection\",[]),\n",
    "    DesignStrategyResults(random_doe.generate_seperate_designs_by_full_subspace, \"Random-by-SubSpace\",[]),\n",
    "    DesignStrategyResults(lhs_doe.generate_seperate_designs_by_full_subspace, \"LHD-by-SubSpace\",[]),\n",
    "    DesignStrategyResults(lhs_doe.generate_design_with_projection, \"LHD-Projection\", []),\n",
    "]\n",
    "generate_designs(\n",
    "    strategies, space, number_of_designs=25,\n",
    "    target_full_sub_space_portions=target_sub_space_allocations\n",
    ")"
   ]
  },
  {
   "cell_type": "code",
   "execution_count": null,
   "metadata": {},
   "outputs": [],
   "source": [
    "strategies[0].designs[0].design.input_sets"
   ]
  },
  {
   "cell_type": "code",
   "execution_count": null,
   "metadata": {},
   "outputs": [],
   "source": [
    "strategies[0].designs[0].design.decoded_input_sets"
   ]
  },
  {
   "cell_type": "code",
   "execution_count": null,
   "metadata": {},
   "outputs": [],
   "source": [
    "strategies[0].designs[0].measurement_set.full_sub_set_assessments"
   ]
  },
  {
   "cell_type": "code",
   "execution_count": null,
   "metadata": {},
   "outputs": [],
   "source": [
    "strategies[0].designs[0].measurement_set.measurements"
   ]
  },
  {
   "cell_type": "code",
   "execution_count": null,
   "metadata": {},
   "outputs": [],
   "source": [
    "f1 = plots.scatterplot_matrix(strategies[0].designs[0].design.decoded_input_sets, [\"x1\", \"x2\", \"x3\"])\n",
    "f2 = plots.scatterplot_matrix(strategies[1].designs[0].design.decoded_input_sets, [\"x1\", \"x2\", \"x3\"])\n",
    "f3 = plots.scatterplot_matrix(strategies[2].designs[0].design.decoded_input_sets, [\"x1\", \"x2\", \"x3\"])\n",
    "f4 = plots.scatterplot_matrix(strategies[3].designs[0].design.decoded_input_sets, [\"x1\", \"x2\", \"x3\"])"
   ]
  },
  {
   "cell_type": "code",
   "execution_count": null,
   "metadata": {},
   "outputs": [],
   "source": [
    "generate_basic_plots(strategies)"
   ]
  },
  {
   "cell_type": "code",
   "execution_count": null,
   "metadata": {},
   "outputs": [],
   "source": [
    "measure.compute_whole_min_point_distance(strategies[1].designs[0].design,[],measure.EncodingEnum.NONE)"
   ]
  },
  {
   "cell_type": "code",
   "execution_count": null,
   "metadata": {},
   "outputs": [],
   "source": [
    "# custom assessment plots\n",
    "plot_sub_space_assessments(strategies, (\"x1\",\"x2\",\"x3\"), measure.METRIC_DISCREPANCY)\n",
    "plot_sub_space_assessments(strategies, (\"x1\",\"x2\"), measure.METRIC_DISCREPANCY)\n",
    "plot_sub_space_assessments(strategies, [\"x2\",\"x3\"], measure.METRIC_DISCREPANCY)\n",
    "plot_sub_space_assessments(strategies, [\"x1\",\"x3\"], measure.METRIC_DISCREPANCY)\n",
    "plot_sub_space_assessments(strategies, [\"x1\"], measure.METRIC_DISCREPANCY)\n",
    "plot_sub_space_assessments(strategies, [\"x2\"], measure.METRIC_DISCREPANCY)\n",
    "plot_sub_space_assessments(strategies, [\"x3\"], measure.METRIC_DISCREPANCY)"
   ]
  },
  {
   "cell_type": "markdown",
   "metadata": {},
   "source": [
    "# Assessment B: Basic Heirarchy"
   ]
  },
  {
   "cell_type": "code",
   "execution_count": null,
   "metadata": {},
   "outputs": [],
   "source": [
    "strategies_bh = [\n",
    "    DesignStrategyResults(lhs_doe.generate_design, \"LHD-by-TreeTraversal\",[]),\n",
    "    DesignStrategyResults(lhs_doe.generate_seperate_designs_by_full_subspace_and_pool, \"LHD-by-SubSpace-Projection\",[]),\n",
    "    #DesignStrategyResults(random_doe.generate_design, \"Random\",[]),\n",
    "    \n",
    "    DesignStrategyResults(random_doe.generate_seperate_designs_by_full_subspace, \"Random-by-SubSpace\",[]),\n",
    "    DesignStrategyResults(lhs_doe.generate_seperate_designs_by_full_subspace, \"LHD-by-SubSpace\",[]),\n",
    "    DesignStrategyResults(lhs_doe.generate_design_with_projection, \"LHD-Projection\", []),\n",
    "]\n",
    "\n",
    "space_bh = s.InputSpace(\n",
    "    dimensions=[\n",
    "        s.Float(id=\"x1\", lb=0.0, ub=1.0, nullable=False),\n",
    "        s.Float(id=\"x2\", lb=0.0, ub=1.0, nullable=False),\n",
    "        s.Float(id=\"x3\", lb=0.0, ub=1.0, nullable=True, portion_null=(1/3)),\n",
    "        s.Composite(id=\"x4\", nullable=True, children=[\n",
    "            s.Float(id=\"x4_1\", lb=0.0, ub=1.0, nullable=False),\n",
    "            s.Float(id=\"x4_2\", lb=0.0, ub=1.0, nullable=True),\n",
    "        ], portion_null=(1/3))\n",
    "    ]\n",
    ")\n",
    "\n",
    "c.assign_null_portions(s.create_level_iterable(space_bh.children))\n",
    "number_of_points = 30\n",
    "plot_fullsubspace_target_portions(space_bh,number_of_points)\n",
    "\n",
    "target_full_sub_space_portions_bh={\n",
    "    (\"x1\",\"x2\",\"x3\"):17,\n",
    "    (\"x1\",\"x2\",\"x4\",\"x4_1\",\"x4_2\"):14,\n",
    "    (\"x1\",\"x2\",\"x4\",\"x4_1\"):5,\n",
    "    (\"x1\",\"x2\",\"x3\",\"x4\",\"x4_1\",\"x4_2\"):45,\n",
    "    (\"x1\",\"x2\",\"x3\",\"x4\",\"x4_1\"):14,\n",
    "    (\"x1\",\"x2\"):5\n",
    "}\n",
    "space_bh.dimensions[3]"
   ]
  },
  {
   "cell_type": "code",
   "execution_count": null,
   "metadata": {},
   "outputs": [],
   "source": [
    "generate_designs(\n",
    "    strategies_bh,\n",
    "    space_bh,\n",
    "    number_of_designs=20,\n",
    "    number_of_points=number_of_points,\n",
    ")"
   ]
  },
  {
   "cell_type": "code",
   "execution_count": null,
   "metadata": {},
   "outputs": [],
   "source": [
    "add_maxpro_strategy_variations(strategies_bh)"
   ]
  },
  {
   "cell_type": "code",
   "execution_count": null,
   "metadata": {},
   "outputs": [],
   "source": [
    "generate_basic_plots(strategies_bh)"
   ]
  },
  {
   "cell_type": "markdown",
   "metadata": {},
   "source": [
    "# Assessment C: More complex hierarchy"
   ]
  },
  {
   "cell_type": "code",
   "execution_count": null,
   "metadata": {},
   "outputs": [],
   "source": [
    "\n",
    "strategies_ch = [\n",
    "    DesignStrategyResults(lhs_doe.generate_design, \"LHD-by-TreeTraversal\",[]),\n",
    "    DesignStrategyResults(lhs_doe.generate_seperate_designs_by_full_subspace_and_pool, \"LHD-by-SubSpace-Projection\",[]),\n",
    "    DesignStrategyResults(random_doe.generate_design, \"Random\",[]),\n",
    "    DesignStrategyResults(lhs_doe.generate_seperate_designs_by_full_subspace, \"LHD-by-SubSpace\",[]),\n",
    "    DesignStrategyResults(lhs_doe.generate_design_with_projection, \"LHD-Projection\", []),\n",
    "]\n",
    "\n",
    "space_ch = s.InputSpace(\n",
    "    dimensions=[\n",
    "        s.Float(id=\"x1\", lb=0.0, ub=1.0),\n",
    "        s.Float(\n",
    "            id=\"x2\",\n",
    "            lb=0.0,\n",
    "            ub=1.0,\n",
    "            nullable=True,\n",
    "            portion_null=1.0 / 10.0,\n",
    "        ),\n",
    "        s.Composite(\n",
    "            id=\"x3\",\n",
    "            nullable=True,\n",
    "            portion_null=1.0 / 7.0,\n",
    "            children=[\n",
    "                s.Float(\n",
    "                    id=\"x4\",\n",
    "                    lb=0.0,\n",
    "                    ub=1.0,\n",
    "                    nullable=True,\n",
    "                    portion_null=1.0 / 10.0,\n",
    "                ),\n",
    "                s.Float(\n",
    "                    id=\"x5\",\n",
    "                    lb=0.0,\n",
    "                    ub=1.0,\n",
    "                    nullable=True,\n",
    "                    portion_null=1.0 / 10.0,\n",
    "                ),\n",
    "            ],\n",
    "        ),\n",
    "        s.Variant(\n",
    "            id=\"x6\",\n",
    "            nullable=True,\n",
    "            portion_null=0.33,\n",
    "            options=[\n",
    "                s.Float(id=\"x7\", lb=0.0, ub=1.0),\n",
    "                s.Float(id=\"x8\", lb=0.0, ub=1.0),\n",
    "            ],\n",
    "        ),\n",
    "    ]\n",
    ")\n",
    "\n",
    "c.assign_null_portions(s.create_level_iterable(space_ch.children))\n",
    "plot_fullsubspace_target_portions(space_ch)"
   ]
  },
  {
   "cell_type": "code",
   "execution_count": null,
   "metadata": {},
   "outputs": [],
   "source": [
    "generate_designs(\n",
    "    strategies_ch,\n",
    "    space_ch,\n",
    "    number_of_designs=20,\n",
    "    number_of_points=number_of_points,\n",
    ")"
   ]
  },
  {
   "cell_type": "code",
   "execution_count": null,
   "metadata": {},
   "outputs": [],
   "source": [
    "generate_basic_plots(strategies_ch)"
   ]
  },
  {
   "cell_type": "code",
   "execution_count": null,
   "metadata": {},
   "outputs": [],
   "source": [
    "plot_designs(strategies_ch,design_index =1)"
   ]
  },
  {
   "cell_type": "code",
   "execution_count": null,
   "metadata": {},
   "outputs": [],
   "source": [
    "peek_into_results(strategies_ch)"
   ]
  },
  {
   "cell_type": "code",
   "execution_count": null,
   "metadata": {},
   "outputs": [],
   "source": [
    "strategies_ch_2 = [\n",
    "    DesignStrategyResults(lhs_doe.generate_design, \"LHD-by-TreeTraversal\",[]),\n",
    "    DesignStrategyResults(lhs_doe.generate_seperate_designs_by_full_subspace_and_pool, \"LHD-by-SubSpace-Projection\",[]),\n",
    "    DesignStrategyResults(random_doe.generate_design, \"Random\",[]),\n",
    "    DesignStrategyResults(lhs_doe.generate_seperate_designs_by_full_subspace, \"LHD-by-SubSpace\",[]),\n",
    "    DesignStrategyResults(lhs_doe.generate_design_with_projection, \"LHD-Projection\", []),\n",
    "]\n",
    "generate_designs(\n",
    "    strategies_ch_2,\n",
    "    space_ch,\n",
    "    number_of_designs=20,\n",
    "    number_of_points=30,\n",
    ")"
   ]
  },
  {
   "cell_type": "code",
   "execution_count": null,
   "metadata": {},
   "outputs": [],
   "source": [
    "peek_into_results(strategies_ch_2)"
   ]
  },
  {
   "cell_type": "code",
   "execution_count": null,
   "metadata": {},
   "outputs": [],
   "source": [
    "generate_basic_plots(strategies_ch_2)"
   ]
  },
  {
   "cell_type": "code",
   "execution_count": null,
   "metadata": {},
   "outputs": [],
   "source": [
    "plot_fullsubspace_target_portions(space_ch,number_of_points=30)"
   ]
  },
  {
   "cell_type": "code",
   "execution_count": null,
   "metadata": {},
   "outputs": [],
   "source": [
    "plot_designs(strategies_ch_2,design_index =1)"
   ]
  },
  {
   "cell_type": "code",
   "execution_count": null,
   "metadata": {},
   "outputs": [],
   "source": []
  },
  {
   "cell_type": "code",
   "execution_count": null,
   "metadata": {},
   "outputs": [],
   "source": []
  },
  {
   "cell_type": "code",
   "execution_count": null,
   "metadata": {},
   "outputs": [],
   "source": [
    "from scipy.stats.qmc import discrepancy"
   ]
  },
  {
   "cell_type": "code",
   "execution_count": null,
   "metadata": {},
   "outputs": [],
   "source": [
    "discrepancy([[0.0],[0.5],[1.0]],method=\"WD\")"
   ]
  },
  {
   "cell_type": "code",
   "execution_count": null,
   "metadata": {},
   "outputs": [],
   "source": [
    "discrepancy([[0.0],[0.1],[1.0]],method=\"WD\")"
   ]
  },
  {
   "cell_type": "code",
   "execution_count": null,
   "metadata": {},
   "outputs": [],
   "source": [
    "discrepancy([[0.0],[0.001],[1.0]],method=\"WD\")"
   ]
  },
  {
   "cell_type": "code",
   "execution_count": null,
   "metadata": {},
   "outputs": [],
   "source": [
    "discrepancy([[0.0],[0.1],[0.05]],method=\"WD\")"
   ]
  },
  {
   "cell_type": "code",
   "execution_count": null,
   "metadata": {},
   "outputs": [],
   "source": [
    "discrepancy([[0.0],[0.1],[0.2],[0.3],[0.4],[0.5]],method=\"WD\")"
   ]
  },
  {
   "cell_type": "code",
   "execution_count": null,
   "metadata": {},
   "outputs": [],
   "source": [
    "discrepancy([[0.0],[0.19],[0.2],[0.3],[0.4],[0.5]],method=\"WD\")"
   ]
  },
  {
   "cell_type": "code",
   "execution_count": null,
   "metadata": {},
   "outputs": [],
   "source": [
    "discrepancy([[0.0],[0.19],[0.2],[0.21],[0.4],[0.5]],method=\"WD\")"
   ]
  },
  {
   "cell_type": "code",
   "execution_count": null,
   "metadata": {},
   "outputs": [],
   "source": [
    "discrepancy([[0.0],[0.19],[0.2],[0.21],[0.49],[0.5]],method=\"WD\")"
   ]
  },
  {
   "cell_type": "code",
   "execution_count": null,
   "metadata": {},
   "outputs": [],
   "source": [
    "discrepancy([[0.0],[0.01],[0.2],[0.21],[0.49],[0.5]],method=\"WD\")"
   ]
  },
  {
   "cell_type": "code",
   "execution_count": null,
   "metadata": {},
   "outputs": [],
   "source": [
    "help(discrepancy)"
   ]
  },
  {
   "cell_type": "code",
   "execution_count": null,
   "metadata": {},
   "outputs": [],
   "source": [
    "discrepancy([[0.0],[0.19],[0.2],[0.21],[0.49],[0.5]], method=\"CD\")"
   ]
  },
  {
   "cell_type": "code",
   "execution_count": null,
   "metadata": {},
   "outputs": [],
   "source": [
    "discrepancy([[0.0],[0.1],[0.2],[0.3],[0.4],[0.5]], method=\"CD\")"
   ]
  },
  {
   "cell_type": "code",
   "execution_count": null,
   "metadata": {},
   "outputs": [],
   "source": [
    "1.0/ (4+1)"
   ]
  },
  {
   "cell_type": "code",
   "execution_count": null,
   "metadata": {},
   "outputs": [],
   "source": []
  }
 ],
 "metadata": {
  "kernelspec": {
   "display_name": "venv",
   "language": "python",
   "name": "python3"
  },
  "language_info": {
   "codemirror_mode": {
    "name": "ipython",
    "version": 3
   },
   "file_extension": ".py",
   "mimetype": "text/x-python",
   "name": "python",
   "nbconvert_exporter": "python",
   "pygments_lexer": "ipython3",
   "version": "3.12.3"
  }
 },
 "nbformat": 4,
 "nbformat_minor": 2
}
