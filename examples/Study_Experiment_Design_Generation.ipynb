{
 "cells": [
  {
   "cell_type": "markdown",
   "metadata": {},
   "source": [
    "# Study Experiment Design Generation\n",
    "\n",
    "This notebook analyzes the characteristics of different space-filling experiment design generation techniques provide by raxpy for different input spaces."
   ]
  },
  {
   "cell_type": "code",
   "execution_count": null,
   "metadata": {},
   "outputs": [],
   "source": [
    "from typing import Optional, Annotated\n",
    "\n",
    "import raxpy\n",
    "import raxpy.spaces.root as s\n",
    "import raxpy.spaces.dimensions as d\n",
    "import raxpy.spaces.complexity as c\n",
    "import raxpy.does.lhs as lhs_doe\n",
    "import raxpy.does.random as random_doe\n",
    "import raxpy.does.assess as assess"
   ]
  },
  {
   "cell_type": "code",
   "execution_count": null,
   "metadata": {},
   "outputs": [],
   "source": [
    "strategies = [\n",
    "    (lhs_doe.generate_design, \"LHD-by-TreeTraversal\",[]),\n",
    "    (random_doe.generate_design, \"Random\",[]),\n",
    "    (lhs_doe.generate_seperate_designs_by_full_subspace, \"LHD-by-SubSpace\",[]),\n",
    "    (lhs_doe.generate_design_with_projection, \"LHD-Projection\", []),\n",
    "]"
   ]
  },
  {
   "cell_type": "code",
   "execution_count": null,
   "metadata": {},
   "outputs": [],
   "source": [
    "def generate_designs(strategies, space: s.InputSpace, number_of_designs: int = 10, number_of_points: int = 100):\n",
    "    for _, strategy in enumerate(strategies):\n",
    "        for _ in range(number_of_designs):\n",
    "            doe = strategy[0](space, number_of_points)\n",
    "\n",
    "            assessment = assess.assess_with_all_metrics(doe)\n",
    "            strategy[2].append((doe,assessment))\n",
    "            "
   ]
  },
  {
   "cell_type": "code",
   "execution_count": null,
   "metadata": {},
   "outputs": [],
   "source": [
    "space = s.InputSpace(\n",
    "    dimensions=[\n",
    "        d.Float(id=\"x1\", lb=0.0, ub=1.0, nullable=True),\n",
    "        d.Float(id=\"x2\", lb=0.0, ub=1.0, nullable=True),\n",
    "        d.Float(id=\"x3\", lb=0.0, ub=1.0, nullable=True),\n",
    "    ]\n",
    ")"
   ]
  },
  {
   "cell_type": "markdown",
   "metadata": {},
   "source": [
    "By default when creating dimensions, the target portion of values in a design to be null is unspecified. Creating a design without specifying these values, results in the whole design to have parameters. The following code assigns these portitions using a complexity analysis hueristic."
   ]
  },
  {
   "cell_type": "code",
   "execution_count": null,
   "metadata": {},
   "outputs": [],
   "source": [
    "c.assign_null_portions(s.create_level_iterable(space.children))"
   ]
  },
  {
   "cell_type": "code",
   "execution_count": null,
   "metadata": {},
   "outputs": [],
   "source": [
    "generate_designs(strategies, space, number_of_designs=10)"
   ]
  },
  {
   "cell_type": "code",
   "execution_count": null,
   "metadata": {},
   "outputs": [],
   "source": []
  },
  {
   "cell_type": "code",
   "execution_count": null,
   "metadata": {},
   "outputs": [],
   "source": [
    "import matplotlib.pyplot as plt\n",
    "\n",
    "\n",
    "discrepancy_data = [[t[1].measurements[assess.METRIC_WEIGHTED_DISCREPANCY] for t in strategy[2] ] for strategy in strategies]\n",
    "fig, axs = plt.subplots(nrows=1, ncols=1, figsize=(9, 4))\n",
    "\n",
    "axs.violinplot(discrepancy_data,\n",
    "                  showmeans=False,\n",
    "                  showmedians=True)\n",
    "axs.set_title('Weighted Discrepancies (smaller the better)')\n",
    "\n",
    "plt.show()"
   ]
  },
  {
   "cell_type": "code",
   "execution_count": null,
   "metadata": {},
   "outputs": [],
   "source": [
    "discrepancy_data = [[t[1].measurements[assess.METRIC_WHOLE_MIN_POINT_DISTANCE] for t in strategy[2] ] for strategy in strategies]\n",
    "fig, axs = plt.subplots(nrows=1, ncols=1, figsize=(9, 4))\n",
    "\n",
    "axs.violinplot(discrepancy_data,\n",
    "                  showmeans=False,\n",
    "                  showmedians=True)\n",
    "axs.set_title('Minimum Interpoint Distances (larger the better)')\n",
    "\n",
    "plt.show()"
   ]
  },
  {
   "cell_type": "code",
   "execution_count": null,
   "metadata": {},
   "outputs": [],
   "source": [
    "discrepancy_data = [[t[1].measurements[assess.METRIC_WHOLE_MIN_PROJECTED_DISTANCE] for t in strategy[2] ] for strategy in strategies]\n",
    "fig, axs = plt.subplots(nrows=1, ncols=1, figsize=(9, 4))\n",
    "print(discrepancy_data)\n",
    "axs.violinplot(discrepancy_data,\n",
    "                  showmeans=False,\n",
    "                  showmedians=True)\n",
    "axs.set_title('Minimum Projected Distances (larger the better)')\n",
    "\n",
    "plt.show()"
   ]
  },
  {
   "cell_type": "code",
   "execution_count": null,
   "metadata": {},
   "outputs": [],
   "source": [
    "def get_sub_space_assessments(strategies, dim_list, metric=assess.METRIC_DISCREPANCY):\n",
    "    results = []\n",
    "    for strategy in strategies:\n",
    "        design_results = []\n",
    "        for replication_data in strategy[2]:\n",
    "            assessment = replication_data[1].get_full_sub_design_assessment(dim_list)\n",
    "            if assessment is not None:\n",
    "                design_results.append(assessment.measurements[metric])\n",
    "        results.append(design_results)\n",
    "\n",
    "    return results"
   ]
  },
  {
   "cell_type": "code",
   "execution_count": null,
   "metadata": {},
   "outputs": [],
   "source": [
    "def plot_sub_space_assessments(strategies, dim_list, metric=assess.METRIC_DISCREPANCY):\n",
    "    dis_values = get_sub_space_assessments(strategies, dim_list, metric)\n",
    "\n",
    "    discrepancy_data = [[t for t in dis_values[i] ] for i in range(len(strategies))]\n",
    "    fig, axs = plt.subplots(nrows=1, ncols=1, figsize=(9, 4))\n",
    "\n",
    "    axs.violinplot(discrepancy_data,\n",
    "                    showmeans=False,\n",
    "                    showmedians=True)\n",
    "    axs.set_xticks(list(i+1 for i in range(len(strategies))))\n",
    "    axs.set_xticklabels(list(strategy[1] for strategy in strategies))\n",
    "\n",
    "    axs.set_title(f'Discrepancy for {\", \".join(dim_list)} full-sub-design (smaller the better)')\n",
    "\n",
    "    plt.show()\n",
    "    pass"
   ]
  },
  {
   "cell_type": "code",
   "execution_count": null,
   "metadata": {},
   "outputs": [],
   "source": [
    "plot_sub_space_assessments(strategies, [\"x1\",\"x2\",\"x3\"], assess.METRIC_DISCREPANCY)"
   ]
  },
  {
   "cell_type": "code",
   "execution_count": null,
   "metadata": {},
   "outputs": [],
   "source": [
    "plot_sub_space_assessments(strategies, [\"x1\",\"x2\"], assess.METRIC_DISCREPANCY)"
   ]
  },
  {
   "cell_type": "code",
   "execution_count": null,
   "metadata": {},
   "outputs": [],
   "source": [
    "plot_sub_space_assessments(strategies, [\"x2\",\"x3\"], assess.METRIC_DISCREPANCY)"
   ]
  },
  {
   "cell_type": "code",
   "execution_count": null,
   "metadata": {},
   "outputs": [],
   "source": [
    "plot_sub_space_assessments(strategies, [\"x1\",\"x3\"], assess.METRIC_DISCREPANCY)"
   ]
  },
  {
   "cell_type": "code",
   "execution_count": null,
   "metadata": {},
   "outputs": [],
   "source": [
    "from scipy.stats.qmc import discrepancy"
   ]
  },
  {
   "cell_type": "code",
   "execution_count": null,
   "metadata": {},
   "outputs": [],
   "source": [
    "discrepancy([[0.0],[0.5],[1.0]],method=\"WD\")"
   ]
  },
  {
   "cell_type": "code",
   "execution_count": null,
   "metadata": {},
   "outputs": [],
   "source": [
    "discrepancy([[0.0],[0.1],[1.0]],method=\"WD\")"
   ]
  },
  {
   "cell_type": "code",
   "execution_count": null,
   "metadata": {},
   "outputs": [],
   "source": [
    "discrepancy([[0.0],[0.001],[1.0]],method=\"WD\")"
   ]
  },
  {
   "cell_type": "code",
   "execution_count": null,
   "metadata": {},
   "outputs": [],
   "source": [
    "discrepancy([[0.0],[0.1],[0.05]],method=\"WD\")"
   ]
  },
  {
   "cell_type": "code",
   "execution_count": null,
   "metadata": {},
   "outputs": [],
   "source": [
    "discrepancy([[0.0],[0.1],[0.2],[0.3],[0.4],[0.5]],method=\"WD\")"
   ]
  },
  {
   "cell_type": "code",
   "execution_count": null,
   "metadata": {},
   "outputs": [],
   "source": [
    "discrepancy([[0.0],[0.19],[0.2],[0.3],[0.4],[0.5]],method=\"WD\")"
   ]
  },
  {
   "cell_type": "code",
   "execution_count": null,
   "metadata": {},
   "outputs": [],
   "source": [
    "discrepancy([[0.0],[0.19],[0.2],[0.21],[0.4],[0.5]],method=\"WD\")"
   ]
  },
  {
   "cell_type": "code",
   "execution_count": null,
   "metadata": {},
   "outputs": [],
   "source": [
    "discrepancy([[0.0],[0.19],[0.2],[0.21],[0.49],[0.5]],method=\"WD\")"
   ]
  },
  {
   "cell_type": "code",
   "execution_count": null,
   "metadata": {},
   "outputs": [],
   "source": [
    "discrepancy([[0.0],[0.01],[0.2],[0.21],[0.49],[0.5]],method=\"WD\")"
   ]
  },
  {
   "cell_type": "code",
   "execution_count": null,
   "metadata": {},
   "outputs": [],
   "source": [
    "help(discrepancy)"
   ]
  },
  {
   "cell_type": "code",
   "execution_count": null,
   "metadata": {},
   "outputs": [],
   "source": [
    "discrepancy([[0.0],[0.19],[0.2],[0.21],[0.49],[0.5]], method=\"CD\")"
   ]
  },
  {
   "cell_type": "code",
   "execution_count": null,
   "metadata": {},
   "outputs": [],
   "source": [
    "discrepancy([[0.0],[0.1],[0.2],[0.3],[0.4],[0.5]], method=\"CD\")"
   ]
  },
  {
   "cell_type": "code",
   "execution_count": null,
   "metadata": {},
   "outputs": [],
   "source": []
  }
 ],
 "metadata": {
  "kernelspec": {
   "display_name": "venv",
   "language": "python",
   "name": "python3"
  },
  "language_info": {
   "codemirror_mode": {
    "name": "ipython",
    "version": 3
   },
   "file_extension": ".py",
   "mimetype": "text/x-python",
   "name": "python",
   "nbconvert_exporter": "python",
   "pygments_lexer": "ipython3",
   "version": "3.12.3"
  }
 },
 "nbformat": 4,
 "nbformat_minor": 2
}
