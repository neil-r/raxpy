{
 "cells": [
  {
   "cell_type": "markdown",
   "metadata": {},
   "source": [
    "# raxpy: Simple Experiment Demonstration\n",
    "\n",
    "The following demonstrates the rich specification of a function's inputs and the use of this to create and execute an experiment from this specification."
   ]
  },
  {
   "cell_type": "code",
   "execution_count": 1,
   "metadata": {},
   "outputs": [],
   "source": [
    "import raxpy\n",
    "from typing import Optional, Annotated"
   ]
  },
  {
   "cell_type": "markdown",
   "metadata": {},
   "source": [
    "## Input Specification\n",
    "\n",
    "The following demonstrates using raxpy to document the a function's input specification."
   ]
  },
  {
   "cell_type": "code",
   "execution_count": 4,
   "metadata": {},
   "outputs": [],
   "source": [
    "\n",
    "def f(\n",
    "  x1:Annotated[float, raxpy.Float(lb=3.0,ub=4.0)],\n",
    "  x2:Annotated[Optional[float], raxpy.Float(lb=0.0,ub=3.0)] = 1.5,\n",
    "):\n",
    "  # the following code should execute the computations with these values, such as running a simulation or training a machine learning model\n",
    "  # to keep it simple for this demonstration, we simply compute a polynominal.\n",
    "\n",
    "  # In the function specification above, x2 is annotated as Optional. This indicates\n",
    "  # that this parameter is optional (users can call this function with setting x2 to None)\n",
    "  # The function specification also provides a lower and upper bound for each float input parameter.\n",
    "\n",
    "  y = 0.4 * x1\n",
    "  if x2 is not None:\n",
    "    y += (x2 * 3.0) + (0.7 * x2*x1)\n",
    "  return y\n"
   ]
  },
  {
   "cell_type": "code",
   "execution_count": null,
   "metadata": {},
   "outputs": [],
   "source": []
  },
  {
   "cell_type": "code",
   "execution_count": 5,
   "metadata": {},
   "outputs": [],
   "source": [
    "input_space = raxpy.function_spec.extract_input_space(f)"
   ]
  },
  {
   "cell_type": "code",
   "execution_count": null,
   "metadata": {},
   "outputs": [],
   "source": []
  },
  {
   "cell_type": "code",
   "execution_count": null,
   "metadata": {},
   "outputs": [],
   "source": []
  }
 ],
 "metadata": {
  "kernelspec": {
   "display_name": "venv",
   "language": "python",
   "name": "python3"
  },
  "language_info": {
   "codemirror_mode": {
    "name": "ipython",
    "version": 3
   },
   "file_extension": ".py",
   "mimetype": "text/x-python",
   "name": "python",
   "nbconvert_exporter": "python",
   "pygments_lexer": "ipython3",
   "version": "3.10.12"
  }
 },
 "nbformat": 4,
 "nbformat_minor": 2
}
