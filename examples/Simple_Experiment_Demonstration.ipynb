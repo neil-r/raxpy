{
 "cells": [
  {
   "cell_type": "markdown",
   "metadata": {},
   "source": [
    "# raxpy: Simple Experiment Demonstration\n",
    "\n",
    "The following demonstrates the rich specification of a function's inputs and the use of this to create and execute an experiment from this specification."
   ]
  },
  {
   "cell_type": "code",
   "execution_count": 1,
   "metadata": {},
   "outputs": [],
   "source": [
    "from typing import Optional, Annotated\n",
    "\n",
    "import raxpy\n",
    "import raxpy.does.projected_lhs as p_lhs"
   ]
  },
  {
   "cell_type": "markdown",
   "metadata": {},
   "source": [
    "## Input Specification\n",
    "\n",
    "The following demonstrates using raxpy to document the a function's input specification."
   ]
  },
  {
   "cell_type": "code",
   "execution_count": 2,
   "metadata": {},
   "outputs": [],
   "source": [
    "\n",
    "def f(\n",
    "  x1:Annotated[float, raxpy.Float(lb=3.0,ub=4.0)],\n",
    "  x2:Annotated[Optional[float], raxpy.Float(lb=0.0,ub=3.0)] = 1.5,\n",
    "):\n",
    "  # the following code should execute the computations with these values, such as running a simulation or training a machine learning model\n",
    "  # to keep it simple for this demonstration, we simply compute a polynominal.\n",
    "\n",
    "  # In the function specification above, x2 is annotated as Optional. This indicates\n",
    "  # that this parameter is optional (users can call this function with setting x2 to None)\n",
    "  # The function specification also provides a lower and upper bound for each float input parameter.\n",
    "\n",
    "  y = 0.4 * x1\n",
    "  if x2 is not None:\n",
    "    y += (x2 * 3.0) + (0.7 * x2*x1)\n",
    "  return y\n"
   ]
  },
  {
   "cell_type": "code",
   "execution_count": 4,
   "metadata": {},
   "outputs": [],
   "source": [
    "input_space = raxpy.function_spec.extract_input_space(f)"
   ]
  },
  {
   "cell_type": "code",
   "execution_count": 5,
   "metadata": {},
   "outputs": [],
   "source": [
    "design_of_experiment = p_lhs.generate_design(input_space, 100)"
   ]
  },
  {
   "cell_type": "code",
   "execution_count": 6,
   "metadata": {},
   "outputs": [
    {
     "name": "stdout",
     "output_type": "stream",
     "text": [
      "DesignOfExperiment(input_sets=array([[3.46114544, 2.42773475],\n",
      "       [3.90731355, 0.56603827],\n",
      "       [3.4278527 , 1.46411875],\n",
      "       [3.89959989, 2.85358027],\n",
      "       [3.4956904 , 2.23173806],\n",
      "       [3.6394356 , 1.72315199],\n",
      "       [3.77039246, 1.26943901],\n",
      "       [3.04208538, 0.15142346],\n",
      "       [3.48212775, 1.24502309],\n",
      "       [3.70188358, 1.42368981],\n",
      "       [3.82904526, 1.86010291],\n",
      "       [3.66538005, 2.64889975],\n",
      "       [3.30744477, 0.757439  ],\n",
      "       [3.08324124, 1.85955177],\n",
      "       [3.33807002, 1.99236822],\n",
      "       [3.73616002, 1.10743006],\n",
      "       [3.38831541, 0.22348742],\n",
      "       [3.31471188, 2.32073081],\n",
      "       [3.54123274, 1.93350262],\n",
      "       [3.17594375, 2.76072684],\n",
      "       [3.0324074 , 1.21746006],\n",
      "       [3.23352409, 1.55747979],\n",
      "       [3.7166708 , 2.72078811],\n",
      "       [3.02835544, 1.69590491],\n",
      "       [3.68365845, 0.0169857 ],\n",
      "       [3.67596307, 1.00322112],\n",
      "       [3.43281631, 0.69297357],\n",
      "       [3.07227418, 2.8898895 ],\n",
      "       [3.27412139, 1.64781344],\n",
      "       [3.596627  , 2.96089625],\n",
      "       [3.19209209, 0.36510739],\n",
      "       [3.62286888, 1.1356045 ],\n",
      "       [3.74116021, 2.03515951],\n",
      "       [3.79036476, 0.19986016],\n",
      "       [3.75125701, 0.29162225],\n",
      "       [3.15579511, 1.5202117 ],\n",
      "       [3.21141558, 1.14216943],\n",
      "       [3.24151449, 0.5295636 ],\n",
      "       [3.52722786, 2.58479723],\n",
      "       [3.9731635 , 1.74131457],\n",
      "       [3.57775753, 2.51531139],\n",
      "       [3.85897354, 2.57577262],\n",
      "       [3.61705233, 2.10061133],\n",
      "       [3.45746381, 0.39429857],\n",
      "       [3.76322734, 2.44428563],\n",
      "       [3.39719026, 1.9143821 ],\n",
      "       [3.64033275, 1.80681167],\n",
      "       [3.1482481 , 0.03406328],\n",
      "       [3.01751219, 2.62961749],\n",
      "       [3.10015534, 2.38624023],\n",
      "       [3.00041496, 0.66052063],\n",
      "       [3.78366456, 2.93569027],\n",
      "       [3.22097992, 2.73258644],\n",
      "       [3.40336589, 2.52753548],\n",
      "       [3.44825114, 2.84354494],\n",
      "       [3.53592942, 0.14440915],\n",
      "       [3.96178075, 0.11830713],\n",
      "       [3.93846698, 0.65351935],\n",
      "       [3.98398314, 0.9492086 ],\n",
      "       [3.37407085, 2.67183965],\n",
      "       [3.47687605, 1.66256187],\n",
      "       [3.56108654, 0.74843492],\n",
      "       [3.91782219, 1.96561796],\n",
      "       [3.92919232, 1.3583282 ],\n",
      "       [3.84421871, 1.18930934],\n",
      "       [3.25444137, 2.25827138],\n",
      "       [3.51096849, 1.33714778],\n",
      "       [3.55057306, 1.5826241 ],\n",
      "       [3.99779815, 2.30720323],\n",
      "       [3.86496731, 0.83339699],\n",
      "       [3.7295936 , 0.80138851],\n",
      "       [3.06704326, 1.02628158],\n",
      "       [3.18411869, 2.04784819],\n",
      "       [3.26961205, 0.30222402],\n",
      "       [3.65263974, 0.48958856],\n",
      "       [3.16923113, 0.91185236],\n",
      "       [3.20171707, 1.78424198],\n",
      "       [3.11223362, 0.42827672],\n",
      "       [3.6021299 , 0.8997038 ],\n",
      "       [3.69481933, 2.14116085],\n",
      "       [3.88268813, 0.47124098],\n",
      "       [3.35173674, 2.07417613],\n",
      "       [3.81623669, 1.48444992],\n",
      "       [3.32394195, 0.07498861],\n",
      "       [3.9496491 , 1.60250231],\n",
      "       [3.1297413 , 1.39693325],\n",
      "       [3.95385795, 2.79335874],\n",
      "       [3.13940268, 2.47776669],\n",
      "       [3.80506988, 2.36845166],\n",
      "       [3.87003904, 2.20731956],\n",
      "       [3.50044226, 0.59401629],\n",
      "       [3.83085218, 0.33533292],\n",
      "       [3.41348709, 0.98577136],\n",
      "       [3.05540548, 2.16973597],\n",
      "       [3.28671025, 2.99729914],\n",
      "       [3.36675896, 0.62352785],\n",
      "       [3.34376726, 1.05967562],\n",
      "       [3.09689517, 0.84434479],\n",
      "       [3.29328602, 1.30150455],\n",
      "       [3.58454797, 0.24832767]]), input_set_map={'x1': 0, 'x2': 1}, encoded_flag=False)\n"
     ]
    }
   ],
   "source": [
    "print(design_of_experiment)"
   ]
  },
  {
   "cell_type": "code",
   "execution_count": null,
   "metadata": {},
   "outputs": [],
   "source": []
  }
 ],
 "metadata": {
  "kernelspec": {
   "display_name": "venv",
   "language": "python",
   "name": "python3"
  },
  "language_info": {
   "codemirror_mode": {
    "name": "ipython",
    "version": 3
   },
   "file_extension": ".py",
   "mimetype": "text/x-python",
   "name": "python",
   "nbconvert_exporter": "python",
   "pygments_lexer": "ipython3",
   "version": "3.10.12"
  }
 },
 "nbformat": 4,
 "nbformat_minor": 2
}
